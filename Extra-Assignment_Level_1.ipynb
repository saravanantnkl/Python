{
 "cells": [
  {
   "cell_type": "code",
   "execution_count": 2,
   "id": "fe0cd93e-671d-4370-a090-65b80919196c",
   "metadata": {},
   "outputs": [
    {
     "name": "stdout",
     "output_type": "stream",
     "text": [
      "Hope AI\n"
     ]
    }
   ],
   "source": [
    "print(\"Hope AI\")"
   ]
  },
  {
   "cell_type": "code",
   "execution_count": 8,
   "id": "69448aa8-d762-4f57-bff2-a0c15d645e82",
   "metadata": {},
   "outputs": [
    {
     "name": "stdin",
     "output_type": "stream",
     "text": [
      "Enter your institute name ? : Hope AI\n"
     ]
    }
   ],
   "source": [
    "name=input(\"Enter your institute name ? :\")"
   ]
  },
  {
   "cell_type": "code",
   "execution_count": 10,
   "id": "5599613a-e046-40aa-bdd7-b3af764aa1e1",
   "metadata": {},
   "outputs": [
    {
     "name": "stdin",
     "output_type": "stream",
     "text": [
      "Enter your name: saravanan\n",
      "Enter your age: 38\n",
      "Enter your school name: Government Higher Secondary school\n",
      "Enter your degree: MCA\n"
     ]
    }
   ],
   "source": [
    "name=input(\"Enter your name:\")\n",
    "age=input(\"Enter your age:\")\n",
    "school=input(\"Enter your school name:\")\n",
    "degree=input(\"Enter your degree:\")"
   ]
  },
  {
   "cell_type": "code",
   "execution_count": 12,
   "id": "f9a2ac05-c9d9-4ad7-81fd-944097e04708",
   "metadata": {},
   "outputs": [
    {
     "name": "stdout",
     "output_type": "stream",
     "text": [
      "a=  43\n",
      "b=  34\n",
      "add=  77\n"
     ]
    }
   ],
   "source": [
    "a=43\n",
    "b=34\n",
    "print(\"a= \",a)\n",
    "print(\"b= \",b)\n",
    "print(\"add= \",a+b)"
   ]
  },
  {
   "cell_type": "code",
   "execution_count": 14,
   "id": "8119961f-4ae2-4f09-8ca3-ebd729a41f4f",
   "metadata": {},
   "outputs": [
    {
     "name": "stdout",
     "output_type": "stream",
     "text": [
      "a=  43\n",
      "b=  34\n",
      "sub=  9\n"
     ]
    }
   ],
   "source": [
    "a=43\n",
    "b=34\n",
    "print(\"a= \",a)\n",
    "print(\"b= \",b)\n",
    "print(\"sub= \",a-b)"
   ]
  },
  {
   "cell_type": "code",
   "execution_count": 16,
   "id": "ae8a4634-9e54-4849-b8f3-126330fe46bb",
   "metadata": {},
   "outputs": [
    {
     "name": "stdout",
     "output_type": "stream",
     "text": [
      "a=  43\n",
      "b=  34\n",
      "mul=  1462\n"
     ]
    }
   ],
   "source": [
    "a=43\n",
    "b=34\n",
    "print(\"a= \",a)\n",
    "print(\"b= \",b)\n",
    "print(\"mul= \",a*b)"
   ]
  },
  {
   "cell_type": "code",
   "execution_count": 18,
   "id": "a4af01fe-0eca-4d9f-8f23-d3fdedefba7f",
   "metadata": {},
   "outputs": [
    {
     "name": "stdout",
     "output_type": "stream",
     "text": [
      "a=  43\n",
      "b=  34\n",
      "div=  1.2647058823529411\n"
     ]
    }
   ],
   "source": [
    "a=43\n",
    "b=34\n",
    "print(\"a= \",a)\n",
    "print(\"b= \",b)\n",
    "print(\"div= \",a/b)"
   ]
  },
  {
   "cell_type": "code",
   "execution_count": 20,
   "id": "7cf31d29-9646-4694-9df1-5fa736544594",
   "metadata": {},
   "outputs": [
    {
     "name": "stdout",
     "output_type": "stream",
     "text": [
      "a=  43\n",
      "b=  34\n",
      "floor=  1\n"
     ]
    }
   ],
   "source": [
    "a=43\n",
    "b=34\n",
    "print(\"a= \",a)\n",
    "print(\"b= \",b)\n",
    "print(\"floor= \",a//b)"
   ]
  },
  {
   "cell_type": "code",
   "execution_count": 22,
   "id": "86a7a6b1-e8b6-4542-bbe0-431d9a7bb1e1",
   "metadata": {},
   "outputs": [
    {
     "name": "stdout",
     "output_type": "stream",
     "text": [
      "a=  43\n",
      "b=  34\n",
      "Modulo=  9\n"
     ]
    }
   ],
   "source": [
    "a=43\n",
    "b=34\n",
    "print(\"a= \",a)\n",
    "print(\"b= \",b)\n",
    "print(\"Modulo= \",a%b)"
   ]
  },
  {
   "cell_type": "code",
   "execution_count": 24,
   "id": "95be0c5f-2967-42b1-af6b-17a43c09781e",
   "metadata": {},
   "outputs": [
    {
     "name": "stdout",
     "output_type": "stream",
     "text": [
      "a=  5\n",
      "b=  5\n",
      "Power=  3125\n"
     ]
    }
   ],
   "source": [
    "a=5\n",
    "b=5\n",
    "print(\"a= \",a)\n",
    "print(\"b= \",b)\n",
    "print(\"Power= \",a**b)"
   ]
  },
  {
   "cell_type": "code",
   "execution_count": null,
   "id": "703b2fcf-a3b5-49d8-9de8-e42fd41f8cd4",
   "metadata": {},
   "outputs": [],
   "source": []
  }
 ],
 "metadata": {
  "kernelspec": {
   "display_name": "Python 3 (ipykernel)",
   "language": "python",
   "name": "python3"
  },
  "language_info": {
   "codemirror_mode": {
    "name": "ipython",
    "version": 3
   },
   "file_extension": ".py",
   "mimetype": "text/x-python",
   "name": "python",
   "nbconvert_exporter": "python",
   "pygments_lexer": "ipython3",
   "version": "3.12.7"
  }
 },
 "nbformat": 4,
 "nbformat_minor": 5
}
