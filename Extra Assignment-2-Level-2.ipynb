{
 "cells": [
  {
   "cell_type": "code",
   "execution_count": 2,
   "id": "68ac43c8-8d35-482b-b906-debf8cbf17eb",
   "metadata": {},
   "outputs": [
    {
     "name": "stdout",
     "output_type": "stream",
     "text": [
      "0\n",
      "1\n",
      "2\n",
      "3\n",
      "4\n",
      "5\n",
      "6\n",
      "7\n",
      "8\n",
      "9\n",
      "10\n",
      "11\n",
      "12\n",
      "13\n",
      "14\n",
      "15\n",
      "16\n",
      "17\n",
      "18\n",
      "19\n"
     ]
    }
   ],
   "source": [
    "for temp in range(20):\n",
    "    print(temp)"
   ]
  },
  {
   "cell_type": "code",
   "execution_count": 8,
   "id": "9469484f-07cf-45d1-a2d0-29b5933f5ba7",
   "metadata": {},
   "outputs": [
    {
     "name": "stdout",
     "output_type": "stream",
     "text": [
      "10 11 12 13 14 15 16 17 18 19 "
     ]
    }
   ],
   "source": [
    "for temp in range(10, 20):\n",
    "    print(temp, end=\" \")"
   ]
  },
  {
   "cell_type": "code",
   "execution_count": 12,
   "id": "f087968c-e698-4319-9534-2c9c7b6d2750",
   "metadata": {},
   "outputs": [
    {
     "name": "stdout",
     "output_type": "stream",
     "text": [
      "[10, 20, 14, 25, 67, 78]\n",
      "Enter no of items in lists2:\n",
      "6\n"
     ]
    }
   ],
   "source": [
    "lists2=[10,20,14,25,67,78]\n",
    "print(lists2)\n",
    "print(\"Enter no of items in lists2:\")\n",
    "print(len(lists2))"
   ]
  },
  {
   "cell_type": "code",
   "execution_count": 22,
   "id": "20ff641c-ccf1-459f-9dde-6ad6000ab5c1",
   "metadata": {},
   "outputs": [
    {
     "name": "stdout",
     "output_type": "stream",
     "text": [
      "Artificial Intelligence\n",
      "A\n",
      "r\n",
      "t\n",
      "i\n",
      "f\n",
      "i\n",
      "c\n",
      "i\n",
      "a\n",
      "l\n",
      " \n",
      "I\n",
      "n\n",
      "t\n",
      "e\n",
      "l\n",
      "l\n",
      "i\n",
      "g\n",
      "e\n",
      "n\n",
      "c\n",
      "e\n"
     ]
    }
   ],
   "source": [
    "name=(\"Artificial Intelligence\")\n",
    "print(name)\n",
    "for i in name:\n",
    "    print(i)"
   ]
  },
  {
   "cell_type": "code",
   "execution_count": 24,
   "id": "402b3826-df51-4d86-824c-05da7d083d1a",
   "metadata": {},
   "outputs": [
    {
     "name": "stdout",
     "output_type": "stream",
     "text": [
      "(1, 'abc', 56, 'hello')\n"
     ]
    }
   ],
   "source": [
    "tuple=(1,'abc',56,'hello')\n",
    "print(tuple)"
   ]
  },
  {
   "cell_type": "code",
   "execution_count": 28,
   "id": "3f020fce-acd9-4daf-b962-95d0283802f8",
   "metadata": {},
   "outputs": [
    {
     "name": "stdout",
     "output_type": "stream",
     "text": [
      "((1, 'abc', 56, 'hello'), ('hi', 'saravanan'))\n"
     ]
    }
   ],
   "source": [
    "tuple1=(1,'abc',56,'hello')\n",
    "tuple2=('hi', 'saravanan')\n",
    "tuple3=(tuple1, tuple2)\n",
    "print(tuple3)"
   ]
  },
  {
   "cell_type": "code",
   "execution_count": 32,
   "id": "e69f16a4-4758-40d3-aca3-0db1056fd2c9",
   "metadata": {},
   "outputs": [
    {
     "name": "stdout",
     "output_type": "stream",
     "text": [
      "19 Odd Number\n",
      "335 Odd Number\n",
      "25 Odd Number\n",
      "1 Odd Number\n"
     ]
    }
   ],
   "source": [
    "lists=[20,10,16,19,335,25,1,276]\n",
    "for i in lists:\n",
    "    if(i%2==1):\n",
    "        print(i,\"Odd Number\")\n"
   ]
  },
  {
   "cell_type": "code",
   "execution_count": 34,
   "id": "8bd6e78d-27ab-46cd-805e-c3bfa0dfc0e5",
   "metadata": {},
   "outputs": [
    {
     "name": "stdout",
     "output_type": "stream",
     "text": [
      "20 Even Number\n",
      "10 Even Number\n",
      "16 Even Number\n",
      "276 Even Number\n"
     ]
    }
   ],
   "source": [
    "lists=[20,10,16,19,335,25,1,276]\n",
    "for i in lists:\n",
    "    if(i%2==0):\n",
    "        print(i,\"Even Number\")"
   ]
  },
  {
   "cell_type": "code",
   "execution_count": 36,
   "id": "1bd1f341-76a5-49aa-9e31-1af8fb114f44",
   "metadata": {},
   "outputs": [],
   "source": [
    "def subfields():\n",
    "    print(\"Subfields in AI are:\")\n",
    "    lists=['Machine Learning', 'Neural Networks', 'Vision', 'Robotics', 'Speech Processing', 'Natural Language Processing']\n",
    "    for i in lists:\n",
    "        print(i)"
   ]
  },
  {
   "cell_type": "code",
   "execution_count": 38,
   "id": "a6c6e087-e3f8-4b0a-84da-e7023098f8a8",
   "metadata": {},
   "outputs": [
    {
     "name": "stdout",
     "output_type": "stream",
     "text": [
      "Subfields in AI are:\n",
      "Machine Learning\n",
      "Neural Networks\n",
      "Vision\n",
      "Robotics\n",
      "Speech Processing\n",
      "Natural Language Processing\n"
     ]
    }
   ],
   "source": [
    "subfields()"
   ]
  },
  {
   "cell_type": "code",
   "execution_count": 42,
   "id": "0e269e9d-242b-4b5b-9ddf-2b8411f456ff",
   "metadata": {},
   "outputs": [],
   "source": [
    "def OddEven():\n",
    "    num=int(input(\"Enter the number:\"))\n",
    "    if(num%2==0):\n",
    "        print(\"Even Number\")\n",
    "    else:\n",
    "        print(\"Odd Number\")\n",
    "    "
   ]
  },
  {
   "cell_type": "code",
   "execution_count": 46,
   "id": "2ab63466-4946-4956-8b44-0b3ae05d3e68",
   "metadata": {},
   "outputs": [
    {
     "name": "stdin",
     "output_type": "stream",
     "text": [
      "Enter the number: 24\n"
     ]
    },
    {
     "name": "stdout",
     "output_type": "stream",
     "text": [
      "Even Number\n"
     ]
    }
   ],
   "source": [
    "OddEven()"
   ]
  },
  {
   "cell_type": "code",
   "execution_count": null,
   "id": "6a00f162-c612-4c18-bced-6f22298ec009",
   "metadata": {},
   "outputs": [],
   "source": []
  }
 ],
 "metadata": {
  "kernelspec": {
   "display_name": "Python 3 (ipykernel)",
   "language": "python",
   "name": "python3"
  },
  "language_info": {
   "codemirror_mode": {
    "name": "ipython",
    "version": 3
   },
   "file_extension": ".py",
   "mimetype": "text/x-python",
   "name": "python",
   "nbconvert_exporter": "python",
   "pygments_lexer": "ipython3",
   "version": "3.12.7"
  }
 },
 "nbformat": 4,
 "nbformat_minor": 5
}
